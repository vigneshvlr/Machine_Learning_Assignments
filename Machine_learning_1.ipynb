{
 "cells": [
  {
   "cell_type": "markdown",
   "id": "f3c587e0",
   "metadata": {},
   "source": [
    "# 1. What does one mean by the term \"machine learning\"?"
   ]
  },
  {
   "cell_type": "code",
   "execution_count": null,
   "id": "e5aa99fe",
   "metadata": {},
   "outputs": [],
   "source": [
    "Machine learning is nothing but a brach of Artificatl Intellegince and computer science where we have Data and  Algorthimg is applied and \n",
    "on it and without any human imiate it can predict the output values and also it learn itself and improves its accuracy"
   ]
  },
  {
   "cell_type": "markdown",
   "id": "14f49238",
   "metadata": {},
   "source": [
    "# 2.Can you think of 4 distinct types of issues where it shines?"
   ]
  },
  {
   "cell_type": "markdown",
   "id": "7e80bb8d",
   "metadata": {},
   "source": [
    "Machine learning algorithms have had good results on problems such has spam detection in email, cancer diagnosis, fraudulent credit card transactions, and automatically driving vehicles."
   ]
  },
  {
   "cell_type": "markdown",
   "id": "4b3a5489",
   "metadata": {},
   "source": [
    "# 3.What is a labeled training set, and how does it work?"
   ]
  },
  {
   "cell_type": "code",
   "execution_count": null,
   "id": "55fe1a18",
   "metadata": {},
   "outputs": [],
   "source": [
    "Labled taining data set has its own columun names and it has dependent and independent features where we perform EDA and \n",
    "Featuring and apply the alogrithm to make the model to train based on the train data"
   ]
  },
  {
   "cell_type": "markdown",
   "id": "0cc59126",
   "metadata": {},
   "source": [
    "# 4.What are the two most important tasks that are supervised?"
   ]
  },
  {
   "cell_type": "markdown",
   "id": "149da1fb",
   "metadata": {},
   "source": [
    "1.Regression\n",
    "2.Classfication"
   ]
  },
  {
   "cell_type": "markdown",
   "id": "4b8b1cdb",
   "metadata": {},
   "source": [
    "# 5.Can you think of four examples of unsupervised tasks?"
   ]
  },
  {
   "cell_type": "code",
   "execution_count": null,
   "id": "41295fa7",
   "metadata": {},
   "outputs": [],
   "source": [
    "Answer:Common unsupervised tasks include clustering, visualization, dimensionality reduction and association rule learning."
   ]
  },
  {
   "cell_type": "markdown",
   "id": "9991121b",
   "metadata": {},
   "source": [
    "# 6.State the machine learning model that would be best to make a robot walk through various unfamiliar terrains?"
   ]
  },
  {
   "cell_type": "code",
   "execution_count": null,
   "id": "a23b9b43",
   "metadata": {},
   "outputs": [],
   "source": [
    "ANswer: Random forest and ADABosst can be used"
   ]
  },
  {
   "cell_type": "markdown",
   "id": "0d2cdb16",
   "metadata": {},
   "source": [
    "# 7.Which algorithm will you use to divide your customers into different groups?\n"
   ]
  },
  {
   "cell_type": "code",
   "execution_count": null,
   "id": "34ceda6d",
   "metadata": {},
   "outputs": [],
   "source": [
    "Amnwer:1.Unsupervised Learning- DB Scan algorithm will be used"
   ]
  },
  {
   "cell_type": "markdown",
   "id": "c9032411",
   "metadata": {},
   "source": [
    "# 8.Will you consider the problem of spam detection to be a supervised or unsupervised learning problem?\n"
   ]
  },
  {
   "cell_type": "code",
   "execution_count": null,
   "id": "bf3e6f89",
   "metadata": {},
   "outputs": [],
   "source": [
    "I will consider as supervised model"
   ]
  },
  {
   "cell_type": "markdown",
   "id": "45755f2b",
   "metadata": {},
   "source": [
    "# 9.What is the concept of an online learning system?"
   ]
  },
  {
   "cell_type": "code",
   "execution_count": null,
   "id": "ba847f19",
   "metadata": {},
   "outputs": [],
   "source": [
    "A learning system based on formalised teaching but with the help of electronic resources is known as E-learning. While teaching can be based in or out of the classrooms, \n",
    "the use of computers and the Internet forms the major component of E-learning."
   ]
  },
  {
   "cell_type": "markdown",
   "id": "4ba0900a",
   "metadata": {},
   "source": [
    "# 10.What is out-of-core learning, and how does it differ from core learning?"
   ]
  },
  {
   "cell_type": "code",
   "execution_count": null,
   "id": "909fcbe8",
   "metadata": {},
   "outputs": [],
   "source": [
    "Out-of-core learning refers to a set of algorithms working with data that cannot fit into the memory of a single computer, \n",
    "but that can easily fit into some data storage such as a local hard disk or web repository"
   ]
  },
  {
   "cell_type": "markdown",
   "id": "1f6fc551",
   "metadata": {},
   "source": [
    "# 11.What kind of learning algorithm makes predictions using a similarity measure?\n"
   ]
  },
  {
   "cell_type": "code",
   "execution_count": null,
   "id": "1f3d6b2a",
   "metadata": {},
   "outputs": [],
   "source": [
    "Instance-based learning algorithms use a measure of similarity to generalize to new cases. In an instance-based learning system, the algorithm learns \n",
    "the examples by heart, then uses the similarity measure to generalize."
   ]
  },
  {
   "cell_type": "markdown",
   "id": "4ceb7f14",
   "metadata": {},
   "source": [
    "# 12.What's the difference between a model parameter and a hyperparameter in a learning algorithm"
   ]
  },
  {
   "cell_type": "code",
   "execution_count": null,
   "id": "dbb6242a",
   "metadata": {},
   "outputs": [],
   "source": [
    "A hyperparameter is a parameter of the learning algorithm, not the model. For example, in a simple linear regression problem our model is parameterized by theta which is a vector of weights. In order to find the best values for theta we have a cost function which is run repeatedly by the gradient descent algorithm. \n",
    "Gradient descent has a hyperparameter called alpha which is the learning rate of the algorithm."
   ]
  },
  {
   "cell_type": "markdown",
   "id": "5d33f6ce",
   "metadata": {},
   "source": [
    "# 13) What do model based learning algorithms search for? \n",
    "What is the most common strategy they use to succeed? How do they make predictions?"
   ]
  },
  {
   "cell_type": "code",
   "execution_count": null,
   "id": "ead143c9",
   "metadata": {},
   "outputs": [],
   "source": [
    "the goal for a model-based algorithm is to be able to generalize to new examples. To do this, model based algorithms search for optimal values for the model's parameters, often called theta. This searching, or \"learning\", is what machine learning is all about. Model-based system learn by minimizing a cost function that measures how bad the system is at making predicitons on new data, plus a penalty for model complexity if the model is regularized. To make a prediction, a new instance's \n",
    "features are fed into a hypothesis function which uses the minimized theta found by repeatedly running the cost function."
   ]
  },
  {
   "cell_type": "markdown",
   "id": "6b256e32",
   "metadata": {},
   "source": [
    "# 14.Can you name four of the most important Machine Learning challenges?\n"
   ]
  },
  {
   "cell_type": "code",
   "execution_count": 5,
   "id": "2215b4ca",
   "metadata": {},
   "outputs": [
    {
     "ename": "SyntaxError",
     "evalue": "invalid syntax (Temp/ipykernel_14572/3944607435.py, line 1)",
     "output_type": "error",
     "traceback": [
      "\u001b[1;36m  File \u001b[1;32m\"C:\\Users\\vigne\\AppData\\Local\\Temp/ipykernel_14572/3944607435.py\"\u001b[1;36m, line \u001b[1;32m1\u001b[0m\n\u001b[1;33m    1.Not enough data gathering\u001b[0m\n\u001b[1;37m      ^\u001b[0m\n\u001b[1;31mSyntaxError\u001b[0m\u001b[1;31m:\u001b[0m invalid syntax\n"
     ]
    }
   ],
   "source": [
    "1.Not enough data gathering\n",
    "2.Outliers,Missingvalues,noise(poor mesurement)\n",
    "3.Feature_selection \n",
    "4.overfitting and underfitting\n"
   ]
  },
  {
   "cell_type": "markdown",
   "id": "899f24de",
   "metadata": {},
   "source": [
    "# 15.What happens if the model performs well \n",
    "on the training data but fails to generalize the results to new situations? Can you think of three different options"
   ]
  },
  {
   "cell_type": "code",
   "execution_count": null,
   "id": "636d6a6c",
   "metadata": {},
   "outputs": [],
   "source": [
    "1.It will lead to overfitiing,so we need to use various hyper parameter which we have and reduce it"
   ]
  },
  {
   "cell_type": "markdown",
   "id": "420d1cf2",
   "metadata": {},
   "source": [
    "# 16) What is a test set and why would you want to use it?"
   ]
  },
  {
   "cell_type": "code",
   "execution_count": null,
   "id": "f63fd8ef",
   "metadata": {},
   "outputs": [],
   "source": [
    "Once the model is trained on the trained dataset ,to know how well the model performs/predicts we use to give the test data to the model and calulate its performance metrics"
   ]
  },
  {
   "cell_type": "markdown",
   "id": "1191485b",
   "metadata": {},
   "source": [
    "# 17) What is the purpose of a validation set?"
   ]
  },
  {
   "cell_type": "code",
   "execution_count": null,
   "id": "6873ccc8",
   "metadata": {},
   "outputs": [],
   "source": [
    "A common solution to this problem is to have a second holdout set called the validation set. You train multiple models with various hyperparameters using the training set, you select the model and hyperparameters that perform best on the validation set, \n",
    "and when you are happy about your model you run a single final test against the test set to get an estimate of the generalization error."
   ]
  },
  {
   "cell_type": "markdown",
   "id": "5b902cd5",
   "metadata": {},
   "source": [
    "# 18) What can go wrong if you tune hyperparameters using the test set?"
   ]
  },
  {
   "cell_type": "code",
   "execution_count": null,
   "id": "2293398f",
   "metadata": {},
   "outputs": [],
   "source": [
    "Your model will not be generalizable to new examples."
   ]
  },
  {
   "cell_type": "markdown",
   "id": "5a65ef83",
   "metadata": {},
   "source": [
    "# 19) What is cross-validation and why would you prefer it to a validation set?"
   ]
  },
  {
   "cell_type": "code",
   "execution_count": null,
   "id": "5f6efe9d",
   "metadata": {},
   "outputs": [],
   "source": [
    "cross validation takes different train and test data with available train dataset"
   ]
  }
 ],
 "metadata": {
  "kernelspec": {
   "display_name": "Python 3 (ipykernel)",
   "language": "python",
   "name": "python3"
  },
  "language_info": {
   "codemirror_mode": {
    "name": "ipython",
    "version": 3
   },
   "file_extension": ".py",
   "mimetype": "text/x-python",
   "name": "python",
   "nbconvert_exporter": "python",
   "pygments_lexer": "ipython3",
   "version": "3.9.7"
  }
 },
 "nbformat": 4,
 "nbformat_minor": 5
}
