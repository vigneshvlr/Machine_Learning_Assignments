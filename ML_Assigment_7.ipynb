{
 "cells": [
  {
   "cell_type": "code",
   "execution_count": null,
   "id": "083a7d5b",
   "metadata": {},
   "outputs": [],
   "source": [
    "1. What is the definition of a target function? In the sense of a real-life example, express the target\n",
    "function. How is a target function."
   ]
  },
  {
   "cell_type": "code",
   "execution_count": null,
   "id": "75ce6ec3",
   "metadata": {},
   "outputs": [],
   "source": [
    "Answer:\n",
    "    A target function, in machine learning, is a method for solving a problem that an AI algorithm parses its training data to find. \n",
    "    Once an algorithm finds its target function, that function can be used to predict results\n",
    "    "
   ]
  },
  {
   "cell_type": "code",
   "execution_count": null,
   "id": "61ed8747",
   "metadata": {},
   "outputs": [],
   "source": [
    "2. What are predictive models, and how do they work? What are descriptive types, and how do you\n",
    "use them? Examples of both types of models should be provided. Distinguish between these two\n",
    "forms of models."
   ]
  },
  {
   "cell_type": "code",
   "execution_count": null,
   "id": "25b71b81",
   "metadata": {},
   "outputs": [],
   "source": [
    "Answer:predictive models are nothing but the Models\n",
    "    which is used to predict the output feature for the given test based on the analysis done on the traind data set,\n",
    "    once the train data sets are give the alogritm clacuates  or train traget variables on the given data set"
   ]
  },
  {
   "cell_type": "code",
   "execution_count": null,
   "id": "41ffdc4b",
   "metadata": {},
   "outputs": [],
   "source": [
    "3. Describe the method of assessing a classification model&#39;s efficiency in detail. Describe the various\n",
    "measurement parameters."
   ]
  },
  {
   "cell_type": "code",
   "execution_count": null,
   "id": "d00ce705",
   "metadata": {},
   "outputs": [],
   "source": [
    "Answer:\n",
    "Classification accuracy.\n",
    "Confusion matrix.\n",
    "Precision and recall.\n",
    "F1 score.\n",
    "Sensitivity and specificity.\n",
    "ROC curve and AUC."
   ]
  },
  {
   "cell_type": "code",
   "execution_count": null,
   "id": "cca6bcba",
   "metadata": {},
   "outputs": [],
   "source": [
    "4.\n",
    "i. In the sense of machine learning models, what is underfitting? What is the most common\n",
    "reason for underfitting?\n",
    "ii. What does it mean to overfit? When is it going to happen?\n",
    "iii. In the sense of model fitting, explain the bias-variance trade-off."
   ]
  },
  {
   "cell_type": "code",
   "execution_count": null,
   "id": "b2d8a1a2",
   "metadata": {},
   "outputs": [],
   "source": [
    "Answer:Underfitting is nothing but the high bais and low variance,\\\n",
    "       overfitting is nothing but the low bais and high variance may be because of imbalnnced data\n",
    "        e bias–variance tradeoff is the property of a model that the variance of the parameter \n",
    "        estimated across samples can be reduced by increasing the bias in the estimated parameters.\n",
    "       "
   ]
  },
  {
   "cell_type": "code",
   "execution_count": null,
   "id": "aa8af889",
   "metadata": {},
   "outputs": [],
   "source": [
    "5. Is it possible to boost the efficiency of a learning model? If so, please clarify how."
   ]
  },
  {
   "cell_type": "code",
   "execution_count": null,
   "id": "26ffecc3",
   "metadata": {},
   "outputs": [],
   "source": [
    "yes it is possible to boost the efficiency of the learning model based on the various hyper parameters"
   ]
  },
  {
   "cell_type": "code",
   "execution_count": null,
   "id": "bec0b1af",
   "metadata": {},
   "outputs": [],
   "source": [
    "6. How would you rate an unsupervised learning model&#39;s success? What are the most common\n",
    "success indicators for an unsupervised learning model?"
   ]
  },
  {
   "cell_type": "code",
   "execution_count": null,
   "id": "291888d8",
   "metadata": {},
   "outputs": [],
   "source": [
    "ANswer:\n",
    "    Unsupervised model is rated based on shilloute scoring"
   ]
  },
  {
   "cell_type": "code",
   "execution_count": null,
   "id": "32a66010",
   "metadata": {},
   "outputs": [],
   "source": [
    "7. Is it possible to use a classification model for numerical data or a regression model for categorical\n",
    "data with a classification model? Explain your answer."
   ]
  },
  {
   "cell_type": "code",
   "execution_count": null,
   "id": "d6b70970",
   "metadata": {},
   "outputs": [],
   "source": [
    "No it is not all possible to  do we will not get the correct results"
   ]
  },
  {
   "cell_type": "code",
   "execution_count": null,
   "id": "42c9d318",
   "metadata": {},
   "outputs": [],
   "source": [
    "8. Describe the predictive modeling method for numerical values. What distinguishes it from\n",
    "categorical predictive modeling?"
   ]
  },
  {
   "cell_type": "code",
   "execution_count": null,
   "id": "6bea3c8f",
   "metadata": {},
   "outputs": [],
   "source": [
    "Answer:\n",
    "    Categorical variables are known to hide and mask lots of interesting information in a data set. \n",
    "    It’s crucial to learn the methods of dealing with such variables. \n",
    "    If you won’t, many a times, you’d miss out on finding the most important variables in a model. It has happened with me. Initially, I used to focus more on numerical variables. Hence, never actually got an accurate model. \n",
    "    But, later I discovered my flaws and learnt the art of dealing with such variables."
   ]
  },
  {
   "cell_type": "code",
   "execution_count": null,
   "id": "3966b395",
   "metadata": {},
   "outputs": [],
   "source": [
    "9. The following data were collected when using a classification model to predict the malignancy of a\n",
    "group of patients&#39; tumors:\n",
    "i. Accurate estimates – 15 cancerous, 75 benign\n",
    "ii. Wrong predictions – 3 cancerous, 7 benign\n",
    "Determine the model"
   ]
  },
  {
   "cell_type": "code",
   "execution_count": null,
   "id": "4bb3d202",
   "metadata": {},
   "outputs": [],
   "source": [
    "Answer:\n",
    "    Accuracy:88% is the accuracy and logistic"
   ]
  },
  {
   "cell_type": "code",
   "execution_count": null,
   "id": "c8f57fe8",
   "metadata": {},
   "outputs": [],
   "source": [
    "10. Make quick notes on:\n",
    "1. The process of holding out\n",
    "2. Cross-validation by tenfold\n",
    "3. Adjusting the parameters\n",
    "\n",
    "11. Define the following terms:\n",
    "1. Purity vs. Silhouette width\n",
    "2. Boosting vs. Bagging\n",
    "3. The eager learner vs. the lazy learner"
   ]
  },
  {
   "cell_type": "code",
   "execution_count": null,
   "id": "1abae0d5",
   "metadata": {},
   "outputs": [],
   "source": [
    "Answer\"\n",
    "cross_validation:10-fold cross validation would perform the fitting procedure a total of ten times, \n",
    "with each fit being performed on a training set consisting of 90% of the total training set selected at random, with the remaining \n",
    "10% used as a hold out set for validation\n",
    "Adjusting the parameters:\n",
    "    various techinique such CV,randomsearchcv,gridsearchCV can be used as the adjusting the parameters.\n",
    "Bagging:in bagging Bagging is a way to decrease the variance in the prediction by generating additional data for training from dataset using combinations with repetitions to produce multi-sets of the original data. \n",
    "        Boosting is an iterative technique which adjusts the weight of an observation based on the last classification\n",
    "The eager learner vs. the lazy learner:\n",
    "    Compared to eager learners, lazy learners have less training time but more time in predicting. Eager learners construct a classification model based on the given training data before receiving data for classification. \n",
    "    It must be able to commit to a single hypothesis that covers the entire instance space\n",
    "    \n"
   ]
  },
  {
   "cell_type": "code",
   "execution_count": null,
   "id": "aab9f93f",
   "metadata": {},
   "outputs": [],
   "source": []
  }
 ],
 "metadata": {
  "kernelspec": {
   "display_name": "Python 3 (ipykernel)",
   "language": "python",
   "name": "python3"
  },
  "language_info": {
   "codemirror_mode": {
    "name": "ipython",
    "version": 3
   },
   "file_extension": ".py",
   "mimetype": "text/x-python",
   "name": "python",
   "nbconvert_exporter": "python",
   "pygments_lexer": "ipython3",
   "version": "3.9.7"
  }
 },
 "nbformat": 4,
 "nbformat_minor": 5
}
