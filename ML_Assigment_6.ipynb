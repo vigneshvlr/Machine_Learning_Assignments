{
 "cells": [
  {
   "cell_type": "code",
   "execution_count": null,
   "id": "1d94b392",
   "metadata": {},
   "outputs": [],
   "source": [
    "1. In the sense of machine learning, what is a model? What is the best way to train a model?"
   ]
  },
  {
   "cell_type": "code",
   "execution_count": null,
   "id": "f5a71b4d",
   "metadata": {},
   "outputs": [],
   "source": [
    "Answer:\n",
    "    model is nothing but a file that has trained to identify certaing patters or outputs,\n",
    "    the best way to train models is by using various ML alogrithms and givign the right dataset"
   ]
  },
  {
   "cell_type": "code",
   "execution_count": null,
   "id": "72641f58",
   "metadata": {},
   "outputs": [],
   "source": [
    "2. In the sense of machine learning, explain the &quot;No Free Lunch&quot; theorem."
   ]
  },
  {
   "cell_type": "code",
   "execution_count": null,
   "id": "72ba002b",
   "metadata": {},
   "outputs": [],
   "source": [
    "Answer:\n",
    "The “no free lunch” (NFL) theorem for supervised machine learning is a \n",
    "theorem that essentially implies that no single machine learning algorithm is \n",
    "universally the best-performing algorithm for all problems."
   ]
  },
  {
   "cell_type": "code",
   "execution_count": null,
   "id": "4e84459a",
   "metadata": {},
   "outputs": [],
   "source": [
    "3. Describe the K-fold cross-validation mechanism in detail."
   ]
  },
  {
   "cell_type": "code",
   "execution_count": null,
   "id": "333583a3",
   "metadata": {},
   "outputs": [],
   "source": [
    "Answer:\n",
    "    Cross-validation is a resampling procedure used to evaluate machine learning models on a limited data sample. The procedure has a single parameter \n",
    "    called k that refers to the number of groups that a given data sample is to be split into.\n",
    "    "
   ]
  },
  {
   "cell_type": "code",
   "execution_count": null,
   "id": "cd4868c1",
   "metadata": {},
   "outputs": [],
   "source": [
    "4. Describe the bootstrap sampling method. What is the aim of it?"
   ]
  },
  {
   "cell_type": "code",
   "execution_count": null,
   "id": "0e72c8f7",
   "metadata": {},
   "outputs": [],
   "source": [
    "Answer;\n",
    "The bootstrap method is a statistical technique \n",
    "for estimating quantities about a population by averaging estimates from multiple small data samples"
   ]
  },
  {
   "cell_type": "code",
   "execution_count": null,
   "id": "0a209435",
   "metadata": {},
   "outputs": [],
   "source": [
    "5. What is the significance of calculating the Kappa value for a classification model? Demonstrate\n",
    "how to measure the Kappa value of a classification model using a sample collection of results."
   ]
  },
  {
   "cell_type": "code",
   "execution_count": null,
   "id": "7c748d61",
   "metadata": {},
   "outputs": [],
   "source": [
    "It basically tells you how much better your classifier is performing over the performance of a classifier that simply guesses at random according to the frequency of each class. Cohen's kappa is always less than or equal to 1. \n",
    "Values of 0 or less, indicate that the classifier is uselesess"
   ]
  },
  {
   "cell_type": "code",
   "execution_count": null,
   "id": "3278a5c3",
   "metadata": {},
   "outputs": [],
   "source": [
    "6. Describe the model ensemble method. In machine learning, what part does it play?"
   ]
  },
  {
   "cell_type": "code",
   "execution_count": null,
   "id": "58d4a2b0",
   "metadata": {},
   "outputs": [],
   "source": [
    "Answer:n of weak learners together forms a strong learner\n",
    "Ensemble modeling is a process where multiple diverse models are created to predict an outcome, \n",
    "either by using many different modeling algorithms or using different training data sets"
   ]
  },
  {
   "cell_type": "code",
   "execution_count": null,
   "id": "bb2e4f7f",
   "metadata": {},
   "outputs": [],
   "source": [
    "7. What is a descriptive model&#39;s main purpose? Give examples of real-world problems that\n",
    "descriptive models were used to solve."
   ]
  },
  {
   "cell_type": "code",
   "execution_count": null,
   "id": "ae3b4042",
   "metadata": {},
   "outputs": [],
   "source": [
    "Answer:A descriptive model describes a system or other entity and its relationship to its environment"
   ]
  },
  {
   "cell_type": "code",
   "execution_count": null,
   "id": "ea8770c2",
   "metadata": {},
   "outputs": [],
   "source": [
    "8. Describe how to evaluate a linear regression model."
   ]
  },
  {
   "cell_type": "code",
   "execution_count": null,
   "id": "a41eab7f",
   "metadata": {},
   "outputs": [],
   "source": [
    "Linear regression model can evaluated based on the Mean squared error ,\n",
    "MAE less the value better the mode,and peformace can evaluated based on R2 and Adjusted R2"
   ]
  },
  {
   "cell_type": "code",
   "execution_count": null,
   "id": "a4d26422",
   "metadata": {},
   "outputs": [],
   "source": [
    "9. Distinguish :\n",
    "\n",
    "1. Descriptive vs. predictive models-Models that are primarily used for understanding, predicting and communicating are referred to as descriptive models, \n",
    "whereas models mainly used for implementation are called prescriptive models\n",
    "\n",
    "2. Underfitting vs. overfitting the model-underfitiing- high bais in train data and low variance ,overfitting-low bais and high variance \n",
    "\n",
    "3. Bootstrapping vs. cross-validation-In summary, Cross validation splits the available dataset to create multiple datasets, and Bootstrapping method uses the original dataset to create multiple datasets after resampling with replacement. \n",
    "Bootstrapping it is not as strong as Cross validation when it is used for model validation"
   ]
  },
  {
   "cell_type": "code",
   "execution_count": null,
   "id": "837ae70e",
   "metadata": {},
   "outputs": [],
   "source": [
    "10. Make quick notes on:\n",
    "\n",
    "1. LOOCV.-The Leave-One-Out Cross-Validation, or LOOCV, procedure is used to estimate the performance of machine learning \n",
    "algorithms when they are used to make predictions on data not used to train the model\n",
    "\n",
    "2. F-measurement-he F measure (F1 score or F score) is a measure of a test's accuracy\n",
    "\n",
    "3. The width of the silhouette-used for valadating the cluers performance for unsupervised technique"
   ]
  }
 ],
 "metadata": {
  "kernelspec": {
   "display_name": "Python 3 (ipykernel)",
   "language": "python",
   "name": "python3"
  },
  "language_info": {
   "codemirror_mode": {
    "name": "ipython",
    "version": 3
   },
   "file_extension": ".py",
   "mimetype": "text/x-python",
   "name": "python",
   "nbconvert_exporter": "python",
   "pygments_lexer": "ipython3",
   "version": "3.9.7"
  }
 },
 "nbformat": 4,
 "nbformat_minor": 5
}
