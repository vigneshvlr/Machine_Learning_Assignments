{
 "cells": [
  {
   "cell_type": "code",
   "execution_count": null,
   "id": "ef05bb53",
   "metadata": {},
   "outputs": [],
   "source": [
    "1. What is the estimated depth of a Decision Tree trained (unrestricted) on a one million instance training set?"
   ]
  },
  {
   "cell_type": "code",
   "execution_count": null,
   "id": "f693cccf",
   "metadata": {},
   "outputs": [],
   "source": [
    "Answer:20"
   ]
  },
  {
   "cell_type": "code",
   "execution_count": null,
   "id": "8f6b740a",
   "metadata": {},
   "outputs": [],
   "source": [
    "2. Is the Gini impurity of a node usually lower or higher than that of its parent? Is it always\n",
    "lower/greater, or is it usually lower/greater?"
   ]
  },
  {
   "cell_type": "code",
   "execution_count": null,
   "id": "42214472",
   "metadata": {},
   "outputs": [],
   "source": [
    "Answer:it is always lower"
   ]
  },
  {
   "cell_type": "code",
   "execution_count": null,
   "id": "0dae4266",
   "metadata": {},
   "outputs": [],
   "source": [
    "3. Explain if its a good idea to reduce max depth if a Decision Tree is overfitting the training set?"
   ]
  },
  {
   "cell_type": "code",
   "execution_count": null,
   "id": "18f606dd",
   "metadata": {},
   "outputs": [],
   "source": [
    "Answer:yes it good ided to with postprunning /preprunning and reduce the depth of the approch"
   ]
  },
  {
   "cell_type": "code",
   "execution_count": null,
   "id": "a131fa4a",
   "metadata": {},
   "outputs": [],
   "source": [
    "4. Explain if its a good idea to try scaling the input features if a Decision Tree underfits the training\n",
    "set?"
   ]
  },
  {
   "cell_type": "code",
   "execution_count": null,
   "id": "052e0a6a",
   "metadata": {},
   "outputs": [],
   "source": [
    "Answer:No Scaling the input features will not over come this issues because decsion tree itself is rule based approach"
   ]
  },
  {
   "cell_type": "code",
   "execution_count": null,
   "id": "b9d37ac3",
   "metadata": {},
   "outputs": [],
   "source": [
    "5. How much time will it take to train another Decision Tree on a training set of 10 million instances\n",
    "if it takes an hour to train a Decision Tree on a training set with 1 million instances?"
   ]
  },
  {
   "cell_type": "code",
   "execution_count": null,
   "id": "06f4e336",
   "metadata": {},
   "outputs": [],
   "source": [
    "The computational complexity of training a Decision Tree is O(n × m log(m)). \n",
    "So if you multiply the training set size by 10, the training time will be multiplied by K = (n × 10m × log(10m)) / (n × m × log(m)) = 10 × log(10m) / log(m). If m = 10^6, then K ≈ 11.7, \n",
    "so you can expect the training time to be roughly 11.7 hour"
   ]
  },
  {
   "cell_type": "code",
   "execution_count": null,
   "id": "e9cd9d6b",
   "metadata": {},
   "outputs": [],
   "source": [
    "6. Will setting presort=True speed up training if your training set has 100,000 instances?"
   ]
  },
  {
   "cell_type": "code",
   "execution_count": null,
   "id": "eae60a64",
   "metadata": {},
   "outputs": [],
   "source": [
    "If your training set contains 100,000 instances, will setting presort=True speed up training? Presorting the training set speeds up training only if the dataset is smaller than a few thousand instances. If it contains 100,000 \n",
    "instances, setting presort=True will considerably slow down training."
   ]
  },
  {
   "cell_type": "code",
   "execution_count": null,
   "id": "6017f77c",
   "metadata": {},
   "outputs": [],
   "source": [
    "7. Follow these steps to train and fine-tune a Decision Tree for the moons dataset:"
   ]
  },
  {
   "cell_type": "code",
   "execution_count": null,
   "id": "5971aab6",
   "metadata": {},
   "outputs": [],
   "source": [
    "a. To build a moons dataset, use make moons(n samples=10000, noise=0.4).\n",
    "\n",
    "b. Divide the dataset into a training and a test collection with train test split().\n",
    "\n",
    "c. To find good hyperparameters values for a DecisionTreeClassifier, use grid search with cross-\n",
    "validation (with the GridSearchCV class). Try different values for max leaf nodes.\n",
    "\n",
    "d. Use these hyperparameters to train the model on the entire training set, and then assess its\n",
    "output on the test set. You can achieve an accuracy of 85 to 87 percent."
   ]
  },
  {
   "cell_type": "code",
   "execution_count": null,
   "id": "f85c4587",
   "metadata": {},
   "outputs": [],
   "source": [
    "8. Follow these steps to grow a forest:\n",
    "\n",
    "a. Using the same method as before, create 1,000 subsets of the training set, each containing\n",
    "100 instances chosen at random. You can do this with Scikit-ShuffleSplit Learn&#39;s class.\n",
    "\n",
    "b. Using the best hyperparameter values found in the previous exercise, train one Decision\n",
    "Tree on each subset. On the test collection, evaluate these 1,000 Decision Trees. These Decision\n",
    "\n",
    "Trees would likely perform worse than the first Decision Tree, achieving only around 80% accuracy,\n",
    "since they were trained on smaller sets.\n",
    "\n",
    "c. Now the magic begins. Create 1,000 Decision Tree predictions for each test set case, and\n",
    "keep only the most common prediction (you can do this with SciPy&#39;s mode() function). Over the test\n",
    "collection, this method gives you majority-vote predictions.\n",
    "\n",
    "d. On the test range, evaluate these predictions: you should achieve a slightly higher accuracy\n",
    "than the first model (approx 0.5 to 1.5 percent higher). You&#39;ve successfully learned a Random Forest\n",
    "classifier!"
   ]
  }
 ],
 "metadata": {
  "kernelspec": {
   "display_name": "Python 3 (ipykernel)",
   "language": "python",
   "name": "python3"
  },
  "language_info": {
   "codemirror_mode": {
    "name": "ipython",
    "version": 3
   },
   "file_extension": ".py",
   "mimetype": "text/x-python",
   "name": "python",
   "nbconvert_exporter": "python",
   "pygments_lexer": "ipython3",
   "version": "3.9.7"
  }
 },
 "nbformat": 4,
 "nbformat_minor": 5
}
