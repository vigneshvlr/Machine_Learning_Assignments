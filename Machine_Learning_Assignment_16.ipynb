{
 "cells": [
  {
   "cell_type": "code",
   "execution_count": null,
   "id": "0c8faf64",
   "metadata": {},
   "outputs": [],
   "source": [
    "1. In a linear equation, what is the difference between a dependent variable and an independent\n",
    "variable?"
   ]
  },
  {
   "cell_type": "code",
   "execution_count": null,
   "id": "237f5050",
   "metadata": {},
   "outputs": [],
   "source": [
    "Answer:in linear equation y will be the dependt variable and x will be dependent variable"
   ]
  },
  {
   "cell_type": "code",
   "execution_count": null,
   "id": "b65dfbf4",
   "metadata": {},
   "outputs": [],
   "source": [
    "2. What is the concept of simple linear regression? Give a specific example."
   ]
  },
  {
   "cell_type": "code",
   "execution_count": null,
   "id": "b377bdb0",
   "metadata": {},
   "outputs": [],
   "source": [
    "Answer:In simple linear regrssion is based on the best fit will generated based on the dependent and \n",
    "    independent features in order to calculate the best fit line cost function(MSE) will be used to predict which is the best fit like the graph will be drawn between the slope and costfucntio \n",
    "    once its global minima we can say that point as the best fit line for the given data"
   ]
  },
  {
   "cell_type": "code",
   "execution_count": null,
   "id": "414937d0",
   "metadata": {},
   "outputs": [],
   "source": [
    "3. In a linear regression, define the slope."
   ]
  },
  {
   "cell_type": "code",
   "execution_count": null,
   "id": "e364561b",
   "metadata": {},
   "outputs": [],
   "source": [
    "slope:slope is nothing but  change in y point with respect to a unit momenet distance in x-axis"
   ]
  },
  {
   "cell_type": "code",
   "execution_count": null,
   "id": "2fbfd952",
   "metadata": {},
   "outputs": [],
   "source": [
    "4.Determine the graph&#39;s slope, where the lower point on the line is represented as (3, 2) and the\n",
    "higher point is represented as (2, 2)."
   ]
  },
  {
   "cell_type": "code",
   "execution_count": null,
   "id": "945c349e",
   "metadata": {},
   "outputs": [],
   "source": [
    "Answer:2-2/(3-2)=0,the slope is zero"
   ]
  },
  {
   "cell_type": "code",
   "execution_count": null,
   "id": "9d558863",
   "metadata": {},
   "outputs": [],
   "source": [
    "5. In linear regression, what are the conditions for a positive slope?"
   ]
  },
  {
   "cell_type": "code",
   "execution_count": null,
   "id": "8ef5f5fa",
   "metadata": {},
   "outputs": [],
   "source": [
    "Answer:As the x value increase the y value also should increase"
   ]
  },
  {
   "cell_type": "code",
   "execution_count": null,
   "id": "5d2f8cb1",
   "metadata": {},
   "outputs": [],
   "source": [
    "6. In linear regression, what are the conditions for a negative slope?"
   ]
  },
  {
   "cell_type": "code",
   "execution_count": null,
   "id": "c3bfc6d0",
   "metadata": {},
   "outputs": [],
   "source": [
    "Answer:As the x value increase the y value also should decrease "
   ]
  },
  {
   "cell_type": "code",
   "execution_count": null,
   "id": "f0cc7b69",
   "metadata": {},
   "outputs": [],
   "source": [
    "7. What is multiple linear regression and how does it work?"
   ]
  },
  {
   "cell_type": "code",
   "execution_count": null,
   "id": "aa6b8b5b",
   "metadata": {},
   "outputs": [],
   "source": [
    "Answer:multiple linear regression works same \n",
    "as that of simple linear but we have multiple independt features to predict the best fit line"
   ]
  },
  {
   "cell_type": "code",
   "execution_count": null,
   "id": "4a10fb62",
   "metadata": {},
   "outputs": [],
   "source": [
    "8.In multiple linear regression, define the number of squares due to error."
   ]
  },
  {
   "cell_type": "code",
   "execution_count": null,
   "id": "d9a4a831",
   "metadata": {},
   "outputs": [],
   "source": [
    "Answer:in multiple linear regression we use MSE and MAE to determint the average error between the prdict and actual outupus"
   ]
  },
  {
   "cell_type": "code",
   "execution_count": null,
   "id": "2c95d952",
   "metadata": {},
   "outputs": [],
   "source": [
    "9. In multiple linear regression, define the number of squares due to regression."
   ]
  },
  {
   "cell_type": "code",
   "execution_count": null,
   "id": "32f29162",
   "metadata": {},
   "outputs": [],
   "source": [
    "The Sum of Squared regression is the sum of the differences between the predicted value and the mean of the dependent variable. \n",
    "The Sum of Squared Error is the difference between the observed value and the predicted"
   ]
  },
  {
   "cell_type": "code",
   "execution_count": null,
   "id": "9759070b",
   "metadata": {},
   "outputs": [],
   "source": [
    "10.In a regression equation, what is multicollinearity?"
   ]
  },
  {
   "cell_type": "code",
   "execution_count": null,
   "id": "925fc299",
   "metadata": {},
   "outputs": [],
   "source": [
    "suppose if we have two indepent feature ,where both are colinear to each other . \n",
    "It makes it hard to interpret of model and also creates an overfitting problem.so we may drop one of the featurs"
   ]
  },
  {
   "cell_type": "code",
   "execution_count": null,
   "id": "a641fcea",
   "metadata": {},
   "outputs": [],
   "source": [
    "11. What is heteroskedasticity, and what does it mean?"
   ]
  },
  {
   "cell_type": "code",
   "execution_count": null,
   "id": "370bd29f",
   "metadata": {},
   "outputs": [],
   "source": [
    "Heteroskedasticity refers to situations where the variance of the residuals is unequal over a range of measured values.\n",
    "When running a regression analysis, heteroskedasticity results in an unequal scatter of the residuals"
   ]
  },
  {
   "cell_type": "code",
   "execution_count": null,
   "id": "09853887",
   "metadata": {},
   "outputs": [],
   "source": [
    "12. Describe the concept of ridge regression."
   ]
  },
  {
   "cell_type": "code",
   "execution_count": null,
   "id": "df00b934",
   "metadata": {},
   "outputs": [],
   "source": [
    "In Ridge regression is used to over come the over_fitting ,\n",
    "by using lambada as parameter for shift global mimina in order to reduce over_fitting"
   ]
  },
  {
   "cell_type": "code",
   "execution_count": null,
   "id": "f477ac56",
   "metadata": {},
   "outputs": [],
   "source": [
    "13. Describe the concept of lasso regression."
   ]
  },
  {
   "cell_type": "code",
   "execution_count": null,
   "id": "84e6076a",
   "metadata": {},
   "outputs": [],
   "source": [
    "The concept of lasso regression is for feature selection if a particular\n",
    "independet variable is very less correlated to the dependent variable then we can drop that variable\n"
   ]
  },
  {
   "cell_type": "code",
   "execution_count": null,
   "id": "caa75f34",
   "metadata": {},
   "outputs": [],
   "source": [
    "14. What is polynomial regression and how does it work?"
   ]
  },
  {
   "cell_type": "code",
   "execution_count": null,
   "id": "94244a7d",
   "metadata": {},
   "outputs": [],
   "source": [
    "Polynomial Regression is a form of Linear regression known as a special case of Multiple linear regression which estimates the relationship \n",
    "as an nth degree polynomial. \n",
    "Polynomial Regression is sensitive to outliers so the presence of one or two outliers can also badly affect the performance"
   ]
  },
  {
   "cell_type": "code",
   "execution_count": null,
   "id": "a42acfaf",
   "metadata": {},
   "outputs": [],
   "source": [
    "15. Describe the basis function."
   ]
  },
  {
   "cell_type": "code",
   "execution_count": null,
   "id": "df2fced5",
   "metadata": {},
   "outputs": [],
   "source": [
    "a basis function is an element of a particular basis for a function space. Every function in the function space can be represented as a linear combination of basis functions, \n",
    "just as every vector in a vector space can be represented as a linear combination of basis vector"
   ]
  },
  {
   "cell_type": "code",
   "execution_count": null,
   "id": "9e019ab4",
   "metadata": {},
   "outputs": [],
   "source": [
    "16. Describe how logistic regression works."
   ]
  },
  {
   "cell_type": "code",
   "execution_count": null,
   "id": "28493df4",
   "metadata": {},
   "outputs": [],
   "source": [
    "logistic regression is used to predict the binary classfication/multiclassfication where the cost function has sigmoid funtion "
   ]
  }
 ],
 "metadata": {
  "kernelspec": {
   "display_name": "Python 3 (ipykernel)",
   "language": "python",
   "name": "python3"
  },
  "language_info": {
   "codemirror_mode": {
    "name": "ipython",
    "version": 3
   },
   "file_extension": ".py",
   "mimetype": "text/x-python",
   "name": "python",
   "nbconvert_exporter": "python",
   "pygments_lexer": "ipython3",
   "version": "3.9.7"
  }
 },
 "nbformat": 4,
 "nbformat_minor": 5
}
