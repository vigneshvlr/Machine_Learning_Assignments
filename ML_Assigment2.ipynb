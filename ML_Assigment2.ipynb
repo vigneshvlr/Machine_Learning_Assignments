{
 "cells": [
  {
   "cell_type": "code",
   "execution_count": null,
   "id": "249d362b",
   "metadata": {},
   "outputs": [],
   "source": [
    "1. What is the concept of human learning? Please give two examples."
   ]
  },
  {
   "cell_type": "code",
   "execution_count": null,
   "id": "80c410d8",
   "metadata": {},
   "outputs": [],
   "source": [
    "Anwer:\n",
    "    Human learning may occur as part of education, personal development or any other informal/formal training in the real time."
   ]
  },
  {
   "cell_type": "code",
   "execution_count": null,
   "id": "e25dbf1c",
   "metadata": {},
   "outputs": [],
   "source": [
    "2.What different forms of human learning are there?"
   ]
  },
  {
   "cell_type": "code",
   "execution_count": null,
   "id": "966642bb",
   "metadata": {},
   "outputs": [],
   "source": [
    "Answer:classical conditioning, operant conditioning, and observational learning."
   ]
  },
  {
   "cell_type": "code",
   "execution_count": null,
   "id": "22bc0e91",
   "metadata": {},
   "outputs": [],
   "source": [
    "3. What is machine learning, and how does it work? What are the key responsibilities of machine\n",
    "learning?"
   ]
  },
  {
   "cell_type": "code",
   "execution_count": null,
   "id": "c7658453",
   "metadata": {},
   "outputs": [],
   "source": [
    "Answer:Machine learning is branch of Artificial intelligence ,where it classifed as supervised and unsupervised tecnique,\n",
    "    where it predicts the dependent or output feature based on the given independent features and learns itself in effiecnt way to predict"
   ]
  },
  {
   "cell_type": "code",
   "execution_count": null,
   "id": "e4df08ff",
   "metadata": {},
   "outputs": [],
   "source": [
    "4. Define the terms &quot;penalty&quot; and &quot;reward&quot; in the context of reinforcement learning."
   ]
  },
  {
   "cell_type": "code",
   "execution_count": null,
   "id": "e7e497b4",
   "metadata": {},
   "outputs": [],
   "source": [
    "Answer:The agent receives rewards by performing correctly and penalties for performing incorrectly.\n",
    "The agent learns without intervention from a human by maximizing its reward and minimizing its penalty."
   ]
  },
  {
   "cell_type": "code",
   "execution_count": null,
   "id": "a4a7642f",
   "metadata": {},
   "outputs": [],
   "source": [
    "5. Explain the term &quot;learning as a search&quot;?"
   ]
  },
  {
   "cell_type": "code",
   "execution_count": null,
   "id": "9e073863",
   "metadata": {},
   "outputs": [],
   "source": [
    "Answer:Definition. \n",
    "    Learning can be viewed as a search through the space of all sentences in a concept description language for a sentence that best describes the data."
   ]
  },
  {
   "cell_type": "code",
   "execution_count": null,
   "id": "2a9251da",
   "metadata": {},
   "outputs": [],
   "source": [
    "6. What are the various goals of machine learning? What is the relationship between these and\n",
    "human learning?"
   ]
  },
  {
   "cell_type": "code",
   "execution_count": null,
   "id": "e874f837",
   "metadata": {},
   "outputs": [],
   "source": [
    "Answer:The main of ML is to predict the output(incase of supervised)based on the given data set and ability to learn itself based on the train data"
   ]
  },
  {
   "cell_type": "code",
   "execution_count": null,
   "id": "82785d20",
   "metadata": {},
   "outputs": [],
   "source": [
    "7. Illustrate the various elements of machine learning using a real-life illustration."
   ]
  },
  {
   "cell_type": "code",
   "execution_count": null,
   "id": "133cb8da",
   "metadata": {},
   "outputs": [],
   "source": [
    "Answer:Image recognaization,speech recgonization,stock market prediction,spam prediction"
   ]
  },
  {
   "cell_type": "code",
   "execution_count": null,
   "id": "262d47c8",
   "metadata": {},
   "outputs": [],
   "source": [
    "8. Provide an example of the abstraction method."
   ]
  },
  {
   "cell_type": "code",
   "execution_count": null,
   "id": "c03f0f72",
   "metadata": {},
   "outputs": [],
   "source": [
    " Answer:Abstraction is nothing but only the relevant attributes of objects and “hides” the unnecessary details."
   ]
  },
  {
   "cell_type": "code",
   "execution_count": null,
   "id": "ab784f70",
   "metadata": {},
   "outputs": [],
   "source": [
    "9. What is the concept of generalization? What function does it play in the machine learning\n",
    "process?"
   ]
  },
  {
   "cell_type": "code",
   "execution_count": null,
   "id": "4e313f86",
   "metadata": {},
   "outputs": [],
   "source": [
    "Genraliztion is the term which defines \n",
    "how well the model is trained on the give train ,to predict the test data set or unseen data"
   ]
  },
  {
   "cell_type": "code",
   "execution_count": null,
   "id": "1172947d",
   "metadata": {},
   "outputs": [],
   "source": [
    "10.What is classification, exactly? What are the main distinctions between classification and regression?"
   ]
  },
  {
   "cell_type": "code",
   "execution_count": null,
   "id": "baf11075",
   "metadata": {},
   "outputs": [],
   "source": [
    "classifcation algorithm is use to predict discreate values where as regression is used for contionou sfeature"
   ]
  },
  {
   "cell_type": "code",
   "execution_count": null,
   "id": "e9f22a19",
   "metadata": {},
   "outputs": [],
   "source": [
    "11. What is regression, and how does it work? Give an example of a real-world problem that was\n",
    "solved using regression."
   ]
  },
  {
   "cell_type": "code",
   "execution_count": null,
   "id": "c7c3cf65",
   "metadata": {},
   "outputs": [],
   "source": [
    "Answer:Regrssion is techinque use to predict the continous feature based on the given train data set ,for example house predcition"
   ]
  },
  {
   "cell_type": "code",
   "execution_count": null,
   "id": "54451fc8",
   "metadata": {},
   "outputs": [],
   "source": [
    "12. Describe the clustering mechanism in detail."
   ]
  },
  {
   "cell_type": "code",
   "execution_count": null,
   "id": "5e63fa38",
   "metadata": {},
   "outputs": [],
   "source": [
    "Answer:\n",
    "    clustering is kind of supervised machine learnign technique \n",
    "    where there is no dependent features based on the independent features it will form clusters"
   ]
  },
  {
   "cell_type": "code",
   "execution_count": null,
   "id": "271cdaac",
   "metadata": {},
   "outputs": [],
   "source": [
    "13. Make brief observations on two of the following topics:\n",
    "i. Machine learning algorithms are used\n",
    "ii. Studying under supervision\n",
    "iii. Studying without supervision\n",
    "iv. Reinforcement learning is a form of learning based on positive reinforcement."
   ]
  },
  {
   "cell_type": "code",
   "execution_count": null,
   "id": "78b6f144",
   "metadata": {},
   "outputs": [],
   "source": [
    "Machine learning algorithms are used-its used to slove various classfiaction and regression probles\n",
    "Studying under supervision-the output features is well know\n",
    "Studying without supervision-the output featurs are not know\n",
    "    \n"
   ]
  }
 ],
 "metadata": {
  "kernelspec": {
   "display_name": "Python 3 (ipykernel)",
   "language": "python",
   "name": "python3"
  },
  "language_info": {
   "codemirror_mode": {
    "name": "ipython",
    "version": 3
   },
   "file_extension": ".py",
   "mimetype": "text/x-python",
   "name": "python",
   "nbconvert_exporter": "python",
   "pygments_lexer": "ipython3",
   "version": "3.9.7"
  }
 },
 "nbformat": 4,
 "nbformat_minor": 5
}
