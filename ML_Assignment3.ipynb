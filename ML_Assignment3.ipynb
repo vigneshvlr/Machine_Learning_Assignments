{
 "cells": [
  {
   "cell_type": "code",
   "execution_count": null,
   "id": "1b6ac051",
   "metadata": {},
   "outputs": [],
   "source": [
    "1.Explain the term machine learning, and how does it work? Explain two machine learning\n",
    "applications in the business world. What are some of the ethical concerns that machine learning\n",
    "applications could raise?"
   ]
  },
  {
   "cell_type": "code",
   "execution_count": null,
   "id": "42c67fd4",
   "metadata": {},
   "outputs": [],
   "source": [
    "Answer:\n",
    "    ML is a branch of AI where the Algorithm learns itself on the given dataset which contains independt and dependent features and predicts the output\n",
    "    example:spam mail detection,stock market prediction,cancer detection,wafer fault detection"
   ]
  },
  {
   "cell_type": "code",
   "execution_count": null,
   "id": "72a48bfa",
   "metadata": {},
   "outputs": [],
   "source": [
    "2. Describe the process of human learning:\n",
    "i. Under the supervision of experts\n",
    "\n",
    "ii. With the assistance of experts in an indirect manner\n",
    "\n",
    "iii. Self-education"
   ]
  },
  {
   "cell_type": "code",
   "execution_count": null,
   "id": "d5a5399c",
   "metadata": {},
   "outputs": [],
   "source": [
    "Answer:\n",
    "    Under the supervision of experts:'learning under some mentor or expertise in the subject'\n",
    "    With the assistance of experts in an indirect manner:'looking into some online platform and learning'\n",
    "    Self-education  :'more on personality/self devlopment'\n",
    "        \n",
    "    "
   ]
  },
  {
   "cell_type": "code",
   "execution_count": null,
   "id": "7c7790bd",
   "metadata": {},
   "outputs": [],
   "source": [
    "3. Provide a few examples of various types of machine learning."
   ]
  },
  {
   "cell_type": "code",
   "execution_count": null,
   "id": "13c087b5",
   "metadata": {},
   "outputs": [],
   "source": [
    "ANSWER:\n",
    "    1.Linear regresiion,logistic,XGBOOST,ADABOOST,RANDOM FOREST"
   ]
  },
  {
   "cell_type": "code",
   "execution_count": null,
   "id": "9d86c420",
   "metadata": {},
   "outputs": [],
   "source": [
    "5. Can you explain what a well-posed learning problem is? Explain the main characteristics that must\n",
    "be present to identify a learning problem properly."
   ]
  },
  {
   "cell_type": "code",
   "execution_count": null,
   "id": "84df43b0",
   "metadata": {},
   "outputs": [],
   "source": [
    "Answer:A (machine learning) problem is well-posed if a solution to it exists, if that solution is unique, and if that solution depends on the data / experience \n",
    "but it is not sensitive to (reasonably small) changes in the data / experience"
   ]
  },
  {
   "cell_type": "code",
   "execution_count": null,
   "id": "9a0a0a02",
   "metadata": {},
   "outputs": [],
   "source": [
    "6. Is machine learning capable of solving all problems? Give a detailed explanation of your answer."
   ]
  },
  {
   "cell_type": "code",
   "execution_count": null,
   "id": "ae8db9cf",
   "metadata": {},
   "outputs": [],
   "source": [
    "no,IF THE DATA SET IS NOT CORRECT "
   ]
  },
  {
   "cell_type": "code",
   "execution_count": null,
   "id": "f61ea000",
   "metadata": {},
   "outputs": [],
   "source": [
    "7. What are the various methods and technologies for solving machine learning problems? Any two\n",
    "of them should be defined in detail."
   ]
  },
  {
   "cell_type": "code",
   "execution_count": null,
   "id": "994675cb",
   "metadata": {},
   "outputs": [],
   "source": [
    "Answer:linear regrssion ,logistic regression,XGBOOST,ADABOOST  are various methods/Algorithms used for solving the ML problemms"
   ]
  },
  {
   "cell_type": "code",
   "execution_count": null,
   "id": "71156898",
   "metadata": {},
   "outputs": [],
   "source": [
    "8. Can you explain the various forms of supervised learning? Explain each one with an example\n",
    "application."
   ]
  },
  {
   "cell_type": "code",
   "execution_count": 2,
   "id": "58b1a1c5",
   "metadata": {},
   "outputs": [
    {
     "ename": "SyntaxError",
     "evalue": "invalid syntax (Temp/ipykernel_11892/1004280273.py, line 1)",
     "output_type": "error",
     "traceback": [
      "\u001b[1;36m  File \u001b[1;32m\"C:\\Users\\vigne\\AppData\\Local\\Temp/ipykernel_11892/1004280273.py\"\u001b[1;36m, line \u001b[1;32m1\u001b[0m\n\u001b[1;33m    ANswer:classification and Regrssion are forms of supervised learning .\u001b[0m\n\u001b[1;37m                                        ^\u001b[0m\n\u001b[1;31mSyntaxError\u001b[0m\u001b[1;31m:\u001b[0m invalid syntax\n"
     ]
    }
   ],
   "source": [
    "Answer:classification and Regrssion are forms of supervised learning .\n",
    "    Classifcation:\n",
    "        used for discrete (Eg:0 and 1 as output features) or multi class classfcaiton\n",
    "        eg:logistic Regrssor\n",
    "    Regression:\n",
    "        Its is used to predict the continous feature\n",
    "    Eg:linear regression"
   ]
  },
  {
   "cell_type": "code",
   "execution_count": null,
   "id": "16e2a6fd",
   "metadata": {},
   "outputs": [],
   "source": [
    "9. What is the difference between supervised and unsupervised learning? With a sample application\n",
    "in each region, explain the differences."
   ]
  },
  {
   "cell_type": "code",
   "execution_count": null,
   "id": "47bbd82d",
   "metadata": {},
   "outputs": [],
   "source": [
    "supervised example:stock market prediction(where output is know),spam detection\n",
    "unsupervised example:Netfix recommdations system"
   ]
  },
  {
   "cell_type": "code",
   "execution_count": null,
   "id": "bb11e51f",
   "metadata": {},
   "outputs": [],
   "source": [
    "10. Describe the machine learning process in depth.\n",
    "\n"
   ]
  },
  {
   "cell_type": "code",
   "execution_count": null,
   "id": "3a5c3f95",
   "metadata": {},
   "outputs": [],
   "source": [
    "Answer:Machine learning is the process of making systems that learn and improve by themselves, \n",
    "by being specifically programmed. The ultimate goal of machine learning is to design algorithms that automatically help a system gather data and use that data to learn more"
   ]
  }
 ],
 "metadata": {
  "kernelspec": {
   "display_name": "Python 3 (ipykernel)",
   "language": "python",
   "name": "python3"
  },
  "language_info": {
   "codemirror_mode": {
    "name": "ipython",
    "version": 3
   },
   "file_extension": ".py",
   "mimetype": "text/x-python",
   "name": "python",
   "nbconvert_exporter": "python",
   "pygments_lexer": "ipython3",
   "version": "3.9.7"
  }
 },
 "nbformat": 4,
 "nbformat_minor": 5
}
