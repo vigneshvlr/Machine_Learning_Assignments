{
 "cells": [
  {
   "cell_type": "code",
   "execution_count": null,
   "id": "2870f99a",
   "metadata": {},
   "outputs": [],
   "source": [
    "1. What are the key tasks involved in getting ready to work with machine learning modeling?"
   ]
  },
  {
   "cell_type": "code",
   "execution_count": null,
   "id": "8c1044a0",
   "metadata": {},
   "outputs": [],
   "source": [
    "Answer:\n",
    "1.Datavalidation\n",
    "2.EDA\n",
    "3.Feature engginerring\n",
    "4.Model Scaling\n",
    "5.Model Training\n",
    "6.Model Prediction\n",
    "7.Clud deployment\n"
   ]
  },
  {
   "cell_type": "code",
   "execution_count": null,
   "id": "e38dfc62",
   "metadata": {},
   "outputs": [],
   "source": [
    "2. What are the different forms of data used in machine learning? Give a specific example for each of\n",
    "them."
   ]
  },
  {
   "cell_type": "code",
   "execution_count": null,
   "id": "4194c537",
   "metadata": {},
   "outputs": [],
   "source": [
    "Answer:1.Categorical data\n",
    "2.Numerical data\n",
    "3.text\n",
    "4.Time series"
   ]
  },
  {
   "cell_type": "code",
   "execution_count": null,
   "id": "72e6987c",
   "metadata": {},
   "outputs": [],
   "source": [
    "3. Distinguish:\n",
    "\n",
    "1. Numeric vs. categorical attributes\n",
    "\n",
    "2. Feature selection vs. dimensionality reduction"
   ]
  },
  {
   "cell_type": "code",
   "execution_count": null,
   "id": "92d988a1",
   "metadata": {},
   "outputs": [],
   "source": [
    "Answer:\n",
    "   1. In numerical variable it the data type will be int/float  or in form of numbers it can be either discreate or continous\n",
    "   2.in categorical variable we have  dtype as object where we can distiniguish it as ordinal and nomianl \n",
    "    "
   ]
  },
  {
   "cell_type": "code",
   "execution_count": null,
   "id": "109513c3",
   "metadata": {},
   "outputs": [],
   "source": [
    "4. Make quick notes on any two of the following:\n",
    "\n",
    "1. The histogram\n",
    "\n",
    "2. Use a scatter plot\n",
    "\n",
    "3.PCA (Personal Computer Aid)"
   ]
  },
  {
   "cell_type": "code",
   "execution_count": null,
   "id": "1f36fb06",
   "metadata": {},
   "outputs": [],
   "source": [
    "Answer:\n",
    "1.The histogram-The historgram is nothing but frequency where ,where x-axis represent the data\n",
    "and y we have frequency,we will use this plot when we have continous feature in our data set\n",
    "2.Scatter plot-scatter plot is used when we hvae two numerical variables to know how the relation between those two"
   ]
  },
  {
   "cell_type": "code",
   "execution_count": null,
   "id": "3af64b93",
   "metadata": {},
   "outputs": [],
   "source": [
    "5. Why is it necessary to investigate data? Is there a discrepancy in how qualitative and quantitative\n",
    "data are explored?"
   ]
  },
  {
   "cell_type": "code",
   "execution_count": null,
   "id": "5434c193",
   "metadata": {},
   "outputs": [],
   "source": [
    "Answer:\n",
    "Quantitative methods allow you to systematically measure variables and test hypotheses. \n",
    "Qualitative methods allow you to explore concepts and experiences in more detail"
   ]
  },
  {
   "cell_type": "code",
   "execution_count": null,
   "id": "cad846c6",
   "metadata": {},
   "outputs": [],
   "source": [
    "6. What are the various histogram shapes? What exactly are ‘bins&#39;?"
   ]
  },
  {
   "cell_type": "code",
   "execution_count": null,
   "id": "4d6d5991",
   "metadata": {},
   "outputs": [],
   "source": [
    "histogram-is nothing but a frequency plot where x-axis represnt the data and \n",
    "y represents the frequency plot and bins are nothing the range which is gettign covered in each bar"
   ]
  },
  {
   "cell_type": "code",
   "execution_count": null,
   "id": "096c9697",
   "metadata": {},
   "outputs": [],
   "source": [
    "7. How do we deal with data outliers?"
   ]
  },
  {
   "cell_type": "code",
   "execution_count": null,
   "id": "671fd612",
   "metadata": {},
   "outputs": [],
   "source": [
    "Answer:\n",
    "we can deal with outliers by mean median mode and \n",
    "based on the data set or we can drop it if it is very less numbers or we can use Knn imputer and caluclate its average value"
   ]
  },
  {
   "cell_type": "code",
   "execution_count": null,
   "id": "3fe4f0fd",
   "metadata": {},
   "outputs": [],
   "source": [
    "8. What are the various central inclination measures? Why does mean vary too much from median in\n",
    "certain data sets?"
   ]
  },
  {
   "cell_type": "code",
   "execution_count": null,
   "id": "566c02e4",
   "metadata": {},
   "outputs": [],
   "source": [
    "Answer:\n",
    "Mean,median,mode-Mean vaires too much from median as because it very very senstive to the outliers "
   ]
  },
  {
   "cell_type": "code",
   "execution_count": null,
   "id": "91158036",
   "metadata": {},
   "outputs": [],
   "source": [
    "9. Describe how a scatter plot can be used to investigate bivariate relationships. Is it possible to find\n",
    "outliers using a scatter plot?"
   ]
  },
  {
   "cell_type": "code",
   "execution_count": null,
   "id": "e01f7e05",
   "metadata": {},
   "outputs": [],
   "source": [
    "Answer:scatter plot is used for bivariate varibales to check the relation ship or data spread.which change in x value"
   ]
  },
  {
   "cell_type": "code",
   "execution_count": null,
   "id": "133f561e",
   "metadata": {},
   "outputs": [],
   "source": [
    "10. Describe how cross-tabs can be used to figure out how two variables are related."
   ]
  },
  {
   "cell_type": "code",
   "execution_count": null,
   "id": "cf78ee5f",
   "metadata": {},
   "outputs": [],
   "source": [
    "Answer:\n",
    "    For a precise reference, a cross-tabulation is a two- (or more) dimensional table that records the number (frequency) of respondents that have the specific characteristics described in the cells of the table. \n",
    "    Cross-tabulation tables provide a wealth of information about the relationship between the variables."
   ]
  }
 ],
 "metadata": {
  "kernelspec": {
   "display_name": "Python 3 (ipykernel)",
   "language": "python",
   "name": "python3"
  },
  "language_info": {
   "codemirror_mode": {
    "name": "ipython",
    "version": 3
   },
   "file_extension": ".py",
   "mimetype": "text/x-python",
   "name": "python",
   "nbconvert_exporter": "python",
   "pygments_lexer": "ipython3",
   "version": "3.9.7"
  }
 },
 "nbformat": 4,
 "nbformat_minor": 5
}
