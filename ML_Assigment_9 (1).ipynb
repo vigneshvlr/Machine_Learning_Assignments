{
 "cells": [
  {
   "cell_type": "code",
   "execution_count": null,
   "id": "9a148af3",
   "metadata": {},
   "outputs": [],
   "source": [
    "1. What is feature engineering, and how does it work? Explain the various aspects of feature\n",
    "engineering in depth."
   ]
  },
  {
   "cell_type": "code",
   "execution_count": null,
   "id": "a5d5fc08",
   "metadata": {},
   "outputs": [],
   "source": [
    "Answer:Feature engineering is the process that takes raw data and transforms it into features \n",
    "that can be used to create a predictive model using machine learning or statistical modeling, such as deep learning."
   ]
  },
  {
   "cell_type": "code",
   "execution_count": null,
   "id": "c0b93c8c",
   "metadata": {},
   "outputs": [],
   "source": [
    "2. What is feature selection, and how does it work? What is the aim of it? What are the various\n",
    "methods of function selection?"
   ]
  },
  {
   "cell_type": "code",
   "execution_count": null,
   "id": "fb7f8710",
   "metadata": {},
   "outputs": [],
   "source": [
    "Answer:Feature Selection is the method of reducing the input variable to your model by using only relevant data and getting rid of noise in data. It is the process of automatically\n",
    "choosing relevant features for your machine learning model based on the type of problem you are trying to solve."
   ]
  },
  {
   "cell_type": "code",
   "execution_count": null,
   "id": "457a0f52",
   "metadata": {},
   "outputs": [],
   "source": [
    "3. Describe the function selection filter and wrapper approaches. State the pros and cons of each\n",
    "approach?"
   ]
  },
  {
   "cell_type": "code",
   "execution_count": null,
   "id": "2785a591",
   "metadata": {},
   "outputs": [],
   "source": [
    "Answer:in wrapper methods, the feature selection process is based on a specific machine learning algorithm that we are trying to fit on a given dataset. \n",
    "It follows a greedy search approach by evaluating all the possible combinations of features against the evaluation criterion"
   ]
  },
  {
   "cell_type": "code",
   "execution_count": null,
   "id": "4003d4ae",
   "metadata": {},
   "outputs": [],
   "source": [
    "4.i. Describe the overall feature selection process.\n",
    "ii. Explain the key underlying principle of feature extraction using an example. What are the most\n",
    "widely used function extraction algorithms?\n"
   ]
  },
  {
   "cell_type": "code",
   "execution_count": null,
   "id": "c6e2acde",
   "metadata": {},
   "outputs": [],
   "source": [
    "Answer:The feature selection process is based on a specific machine learning algorithm that we are trying to fit on a given dataset. \n",
    "It follows a greedy search approach by evaluating all the possible combinations of features against the evaluation criterion.\n",
    " we can use heat map and wrapper techniques"
   ]
  },
  {
   "cell_type": "code",
   "execution_count": null,
   "id": "43e978c3",
   "metadata": {},
   "outputs": [],
   "source": [
    "5. Describe the feature engineering process in the sense of a text categorization issue."
   ]
  },
  {
   "cell_type": "code",
   "execution_count": null,
   "id": "60c1cbcd",
   "metadata": {},
   "outputs": [],
   "source": [
    "Text classification is the problem of assigning categories to text data according to its content. The most important part of text classification is \n",
    "feature engineering: the process of creating features for a machine learning model from raw text data"
   ]
  },
  {
   "cell_type": "code",
   "execution_count": null,
   "id": "edd957d2",
   "metadata": {},
   "outputs": [],
   "source": [
    "6.What makes cosine similarity a good metric for text categorization? A document-term matrix has\n",
    "two rows with values of (2, 3, 2, 0, 2, 3, 3, 0, 1) and (2, 1, 0, 0, 3, 2, 1, 3, 1). Find the resemblance in\n",
    "cosine."
   ]
  },
  {
   "cell_type": "code",
   "execution_count": null,
   "id": "be836e0b",
   "metadata": {},
   "outputs": [],
   "source": [
    "Answer:Cosine similarity measures the similarity between two vectors of an inner product space. It is measured by the cosine of the angle between two vectors and determines whether two vectors \n",
    "are pointing in roughly the same direction. It is often used to measure document similarity in text analysis."
   ]
  },
  {
   "cell_type": "code",
   "execution_count": null,
   "id": "18239641",
   "metadata": {},
   "outputs": [],
   "source": [
    "8. State what is meant by &quot;high-dimensional data set&quot;? Could you offer a few real-life examples?\n",
    "What are the difficulties in using machine learning techniques on a data set with many dimensions?\n",
    "What can be done about it?"
   ]
  },
  {
   "cell_type": "code",
   "execution_count": null,
   "id": "4df86307",
   "metadata": {},
   "outputs": [],
   "source": [
    "High Dimensional means that the number of dimensions are staggeringly high — so high that calculations become extremely difficult. With high dimensional data, the number of features can exceed the number of observations.\n",
    "For example, microarrays, which measure gene expression, can contain tens of hundreds of samples."
   ]
  },
  {
   "cell_type": "code",
   "execution_count": null,
   "id": "55350fb8",
   "metadata": {},
   "outputs": [],
   "source": [
    "9.PCA is an acronym for Personal Computer Analysis."
   ]
  },
  {
   "cell_type": "code",
   "execution_count": null,
   "id": "e6609c66",
   "metadata": {},
   "outputs": [],
   "source": [
    "PCA is a technique which is used to conver the higher dimenstion to lower dimension data sets\n"
   ]
  },
  {
   "cell_type": "code",
   "execution_count": null,
   "id": "2539d799",
   "metadata": {},
   "outputs": [],
   "source": [
    "10. Make a comparison between:\n",
    "\n",
    "1. Sequential backward exclusion vs. sequential forward selection\n",
    "\n",
    "2. Function selection methods: filter vs. wrapper\n",
    "\n",
    "3. SMC vs. Jaccard coefficient"
   ]
  },
  {
   "cell_type": "code",
   "execution_count": null,
   "id": "22cf9c3f",
   "metadata": {},
   "outputs": [],
   "source": [
    "Answer:\n",
    "    1.Sequential floating forward selection (SFFS) starts from the empty set. After each forward step, SFFS performs backward steps as long as the objective function increases. \n",
    "    Sequential floating backward selection (SFBS) starts from the full set.\n",
    "    2.Filter methods measure the relevance of features by their correlation with dependent variable while wrapper methods measure the usefulness of a \n",
    "    subset of feature by actually training a model on it\n",
    "    3.Thus, the SMC counts both mutual presences (when an attribute is present in both sets) and mutual absence (when an attribute is absent in both sets) as \n",
    "    matches and compares it to the total number of attributes in the universe\n"
   ]
  }
 ],
 "metadata": {
  "kernelspec": {
   "display_name": "Python 3 (ipykernel)",
   "language": "python",
   "name": "python3"
  },
  "language_info": {
   "codemirror_mode": {
    "name": "ipython",
    "version": 3
   },
   "file_extension": ".py",
   "mimetype": "text/x-python",
   "name": "python",
   "nbconvert_exporter": "python",
   "pygments_lexer": "ipython3",
   "version": "3.9.12"
  }
 },
 "nbformat": 4,
 "nbformat_minor": 5
}
