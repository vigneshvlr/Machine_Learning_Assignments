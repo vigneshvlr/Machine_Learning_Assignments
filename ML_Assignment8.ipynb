{
 "cells": [
  {
   "cell_type": "code",
   "execution_count": null,
   "id": "25ef2367",
   "metadata": {},
   "outputs": [],
   "source": [
    "1. What exactly is a feature? Give an example to illustrate your point."
   ]
  },
  {
   "cell_type": "code",
   "execution_count": null,
   "id": "f213ea9f",
   "metadata": {},
   "outputs": [],
   "source": [
    "Answer:A feature is nothing but the variable which we use to anylaze it many be categorical numerical discrete"
   ]
  },
  {
   "cell_type": "code",
   "execution_count": null,
   "id": "89ebf687",
   "metadata": {},
   "outputs": [],
   "source": [
    "2. What are the various circumstances in which feature construction is required?"
   ]
  },
  {
   "cell_type": "code",
   "execution_count": null,
   "id": "ca8b45fc",
   "metadata": {},
   "outputs": [],
   "source": [
    "Feature construction is the application of a set of \n",
    "constructive operators to a set of existing features resulting in construction of new features."
   ]
  },
  {
   "cell_type": "code",
   "execution_count": null,
   "id": "a48ca995",
   "metadata": {},
   "outputs": [],
   "source": [
    "3. Describe how nominal variables are encoded."
   ]
  },
  {
   "cell_type": "code",
   "execution_count": null,
   "id": "d77a17fe",
   "metadata": {},
   "outputs": [],
   "source": [
    "one hot encoding can be used for nominal varibales"
   ]
  },
  {
   "cell_type": "code",
   "execution_count": null,
   "id": "9493bcd3",
   "metadata": {},
   "outputs": [],
   "source": [
    "4. Describe how numeric features are converted to categorical features?"
   ]
  },
  {
   "cell_type": "code",
   "execution_count": null,
   "id": "e8920636",
   "metadata": {},
   "outputs": [],
   "source": [
    "we can take the intervals in regular manner and then we can convert it to a categorical features"
   ]
  },
  {
   "cell_type": "code",
   "execution_count": null,
   "id": "abc819f2",
   "metadata": {},
   "outputs": [],
   "source": [
    "5. Describe the feature selection wrapper approach. State the advantages and disadvantages of this\n",
    "approach?"
   ]
  },
  {
   "cell_type": "code",
   "execution_count": null,
   "id": "60d8f8c3",
   "metadata": {},
   "outputs": [],
   "source": [
    "In wrapper methods, the feature selection process is based on a specific machine learning algorithm that we are trying to fit on a given dataset. It follows a greedy \n",
    "search approach by evaluating all the possible combinations of features against the evaluation criterion."
   ]
  },
  {
   "cell_type": "code",
   "execution_count": null,
   "id": "d8a31e2a",
   "metadata": {},
   "outputs": [],
   "source": [
    "6. When is a feature considered irrelevant? What can be said to quantify it?"
   ]
  },
  {
   "cell_type": "code",
   "execution_count": null,
   "id": "21558eca",
   "metadata": {},
   "outputs": [],
   "source": [
    "The feature is said to be irrelavant when their correaltion between them is  near to 0.we can use corrplot and quantify it"
   ]
  },
  {
   "cell_type": "code",
   "execution_count": null,
   "id": "6e8eb41d",
   "metadata": {},
   "outputs": [],
   "source": [
    "7. When is a function considered redundant? What criteria are used to identify features that could\n",
    "be redundant?"
   ]
  },
  {
   "cell_type": "code",
   "execution_count": null,
   "id": "1972d723",
   "metadata": {},
   "outputs": [],
   "source": [
    " Duplicated features or information, that adds as a precaution against failure or error."
   ]
  },
  {
   "cell_type": "code",
   "execution_count": null,
   "id": "77f2eedd",
   "metadata": {},
   "outputs": [],
   "source": [
    "8.What are the various distance measurements used to determine feature similarity ?"
   ]
  },
  {
   "cell_type": "code",
   "execution_count": null,
   "id": "de961643",
   "metadata": {},
   "outputs": [],
   "source": [
    "Euclidean Distance\n",
    "Manhattan Distance"
   ]
  },
  {
   "cell_type": "code",
   "execution_count": null,
   "id": "e2ab6a77",
   "metadata": {},
   "outputs": [],
   "source": [
    "9. State difference between Euclidean and Manhattan distances?"
   ]
  },
  {
   "cell_type": "code",
   "execution_count": null,
   "id": "5186a266",
   "metadata": {},
   "outputs": [],
   "source": [
    "Euclidean Distance:it takes the shortest path \n",
    "Manhattan distances:it takes the longest path"
   ]
  },
  {
   "cell_type": "code",
   "execution_count": null,
   "id": "048bdc12",
   "metadata": {},
   "outputs": [],
   "source": [
    "10. Distinguish between feature transformation and feature selection."
   ]
  },
  {
   "cell_type": "code",
   "execution_count": null,
   "id": "503f7e60",
   "metadata": {},
   "outputs": [],
   "source": [
    "transformation of data to improve the accuracy of the algorithm; feature selection: removing unnecessary features"
   ]
  },
  {
   "cell_type": "code",
   "execution_count": null,
   "id": "bd88a188",
   "metadata": {},
   "outputs": [],
   "source": [
    "11. Make brief notes on any two of the following:\n",
    "\n",
    "1.SVD (Standard Variable Diameter Diameter)\n",
    "\n",
    "2. Collection of features using a hybrid approach\n"
   ]
  },
  {
   "cell_type": "code",
   "execution_count": null,
   "id": "d327078b",
   "metadata": {},
   "outputs": [],
   "source": [
    "SVD (Standard Variable Diameter Diameter)"
   ]
  },
  {
   "cell_type": "code",
   "execution_count": null,
   "id": "dbfe1359",
   "metadata": {},
   "outputs": [],
   "source": [
    "In linear algebra, the singular value decomposition (SVD) is a factorization of a real or complex matrix. It generalizes the eigendecomposition of a square normal matrix with an orthonormal eigenbasis to any {\\displaystyle m\\times n}m\\times n matrix. \n",
    "It is related to the polar decomposition."
   ]
  }
 ],
 "metadata": {
  "kernelspec": {
   "display_name": "Python 3 (ipykernel)",
   "language": "python",
   "name": "python3"
  },
  "language_info": {
   "codemirror_mode": {
    "name": "ipython",
    "version": 3
   },
   "file_extension": ".py",
   "mimetype": "text/x-python",
   "name": "python",
   "nbconvert_exporter": "python",
   "pygments_lexer": "ipython3",
   "version": "3.9.12"
  }
 },
 "nbformat": 4,
 "nbformat_minor": 5
}
