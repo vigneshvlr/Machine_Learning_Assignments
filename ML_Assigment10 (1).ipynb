{
 "cells": [
  {
   "cell_type": "code",
   "execution_count": null,
   "id": "4bf8a379",
   "metadata": {},
   "outputs": [],
   "source": [
    "1. Define the Bayesian interpretation of probability."
   ]
  },
  {
   "cell_type": "code",
   "execution_count": null,
   "id": "87f53bb4",
   "metadata": {},
   "outputs": [],
   "source": [
    "It is defined as the: Probability of an event A given B equals the probability of B \n",
    "    and A happening together divided by the probability of B."
   ]
  },
  {
   "cell_type": "code",
   "execution_count": null,
   "id": "9f05ec7c",
   "metadata": {},
   "outputs": [],
   "source": [
    "2. Define probability of a union of two events with equation.2."
   ]
  },
  {
   "cell_type": "code",
   "execution_count": null,
   "id": "56f9ae9a",
   "metadata": {},
   "outputs": [],
   "source": [
    "P(A or B) = P(A) + P(B). The chance of any (one or more) of two or more events occurring is called the union of the events. \n",
    "The probability of the union of disjoint events is the sum of their individual probabilities"
   ]
  },
  {
   "cell_type": "code",
   "execution_count": null,
   "id": "d5b98277",
   "metadata": {},
   "outputs": [],
   "source": [
    "3. What is joint probability? What is its formula?"
   ]
  },
  {
   "cell_type": "code",
   "execution_count": null,
   "id": "b52855e5",
   "metadata": {},
   "outputs": [],
   "source": [
    "Joint probability is a statistical measure that calculates the likelihood of two events occurring together and at the same point in time. \n",
    "Joint probability is the probability of event Y occurring at the same time that event X occurs."
   ]
  },
  {
   "cell_type": "code",
   "execution_count": null,
   "id": "671bd408",
   "metadata": {},
   "outputs": [],
   "source": [
    "4. What is chain rule of probability?"
   ]
  },
  {
   "cell_type": "code",
   "execution_count": null,
   "id": "1110cab9",
   "metadata": {},
   "outputs": [],
   "source": [
    "Image result for What is chain rule of probability?\n",
    "The probability chain is a random process in which someone transmits the information to others in accordance with the laws of probability and then these others pass the information in a similar way. \n",
    "The source of information for each person hearing the message is different."
   ]
  },
  {
   "cell_type": "code",
   "execution_count": null,
   "id": "4d95fb78",
   "metadata": {},
   "outputs": [],
   "source": [
    "5. What is conditional probability means? What is the formula of it?"
   ]
  },
  {
   "cell_type": "code",
   "execution_count": null,
   "id": "0e7c0739",
   "metadata": {},
   "outputs": [],
   "source": [
    "Conditional probability: p(A|B) is the probability of event A occurring, given that event B occurs. For example, given that you drew a red card, what's the probability that it's a four (p(four|red))=2/26=1/13. \n",
    "So out of the 26 red cards (given a red card), there are two fours so 2/26=1/13."
   ]
  },
  {
   "cell_type": "code",
   "execution_count": null,
   "id": "7bf2d021",
   "metadata": {},
   "outputs": [],
   "source": [
    "6. What are continuous random variables?"
   ]
  },
  {
   "cell_type": "code",
   "execution_count": null,
   "id": "c7e887bc",
   "metadata": {},
   "outputs": [],
   "source": [
    "A continuous random variable is one which takes an infinite number of possible values. Continuous random variables are usually measurements. \n",
    "Examples include height, weight, the amount of sugar in an orange, the time required to run a mile."
   ]
  },
  {
   "cell_type": "code",
   "execution_count": null,
   "id": "d4bd5063",
   "metadata": {},
   "outputs": [],
   "source": [
    "7. What are Bernoulli distributions? What is the formula of it?"
   ]
  },
  {
   "cell_type": "code",
   "execution_count": null,
   "id": "4285e15b",
   "metadata": {},
   "outputs": [],
   "source": [
    "Bernoulli distribution is a discrete probability distribution where the Bernoulli \n",
    "random variable can have only 0 or 1 as the outcome. p is the probability of success and 1 - p is \n",
    "the probability of failure. The mean of a Bernoulli distribution is E[X] = p and the variance, Var[X] = p(1-p).\n"
   ]
  },
  {
   "cell_type": "code",
   "execution_count": null,
   "id": "d80842f5",
   "metadata": {},
   "outputs": [],
   "source": [
    "8. What is binomial distribution? What is the formula?"
   ]
  },
  {
   "cell_type": "code",
   "execution_count": null,
   "id": "837b9d06",
   "metadata": {},
   "outputs": [],
   "source": [
    "Answer:the binomial distribution is calculated by multiplying the probability of success raised to the \n",
    "power of the number of successes and the probability of failure raised to the power of the difference between \n",
    "the number of successes and the number of trials."
   ]
  },
  {
   "cell_type": "code",
   "execution_count": null,
   "id": "9dbc0945",
   "metadata": {},
   "outputs": [],
   "source": [
    "9. What is Poisson distribution? What is the formula?"
   ]
  },
  {
   "cell_type": "code",
   "execution_count": null,
   "id": "c20a56a3",
   "metadata": {},
   "outputs": [],
   "source": [
    "The Poisson Distribution formula is: P(x; μ) = (e-μ) (μx) / x! Let's say that that x (as in the prime counting function is a very big number, like x = 10100. If you choose a random number that's less than or equal to x, \n",
    "the probability of that number being prime is about 0.43 percent."
   ]
  },
  {
   "cell_type": "code",
   "execution_count": null,
   "id": "6bc816d8",
   "metadata": {},
   "outputs": [],
   "source": [
    "10. Define covariance."
   ]
  },
  {
   "cell_type": "code",
   "execution_count": null,
   "id": "c94c695a",
   "metadata": {},
   "outputs": [],
   "source": [
    "the property of a function of retaining its form when the variables are linearly transformed."
   ]
  },
  {
   "cell_type": "code",
   "execution_count": null,
   "id": "69dc5252",
   "metadata": {},
   "outputs": [],
   "source": [
    "11. Define correlation"
   ]
  },
  {
   "cell_type": "code",
   "execution_count": null,
   "id": "5d4035c3",
   "metadata": {},
   "outputs": [],
   "source": [
    "Correlation is a statistical measure that expresses the extent to which two variables are linearly related"
   ]
  },
  {
   "cell_type": "code",
   "execution_count": null,
   "id": "1ffd029e",
   "metadata": {},
   "outputs": [],
   "source": [
    "12. Define sampling with replacement. Give example."
   ]
  },
  {
   "cell_type": "code",
   "execution_count": null,
   "id": "1588170a",
   "metadata": {},
   "outputs": [],
   "source": [
    "When a sampling unit is drawn from a finite population and is returned to that population, after its characteristic(s) have been recorded, \n",
    "before the next unit is drawn, the sampling is said to be “with replacement”"
   ]
  },
  {
   "cell_type": "code",
   "execution_count": null,
   "id": "9986abb6",
   "metadata": {},
   "outputs": [],
   "source": [
    "13. What is sampling without replacement? Give example."
   ]
  },
  {
   "cell_type": "code",
   "execution_count": null,
   "id": "38247c0a",
   "metadata": {},
   "outputs": [],
   "source": [
    "Answer:in sampling without replacement, each sample unit of the population has only one chance to be selected in the sample. For example, if one draws a simple random sample such that no unit occurs more \n",
    "than one time in the sample, the sample is drawn without replacement"
   ]
  },
  {
   "cell_type": "code",
   "execution_count": null,
   "id": "ce412e4d",
   "metadata": {},
   "outputs": [],
   "source": [
    "14. What is hypothesis? Give example."
   ]
  },
  {
   "cell_type": "code",
   "execution_count": null,
   "id": "d8c92f6f",
   "metadata": {},
   "outputs": [],
   "source": [
    "Hypotheses are usually written as if/then statements, such as if someone eats a lot of sugar, then they will develop cavities in their teeth. These statements identify specific variables (in this case, eating a large amount of sugar) and \n",
    "propose a result (in this case, teeth developing cavities)"
   ]
  }
 ],
 "metadata": {
  "kernelspec": {
   "display_name": "Python 3 (ipykernel)",
   "language": "python",
   "name": "python3"
  },
  "language_info": {
   "codemirror_mode": {
    "name": "ipython",
    "version": 3
   },
   "file_extension": ".py",
   "mimetype": "text/x-python",
   "name": "python",
   "nbconvert_exporter": "python",
   "pygments_lexer": "ipython3",
   "version": "3.9.12"
  }
 },
 "nbformat": 4,
 "nbformat_minor": 5
}
