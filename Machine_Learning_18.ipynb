{
 "cells": [
  {
   "cell_type": "code",
   "execution_count": null,
   "id": "8cd0a19b",
   "metadata": {},
   "outputs": [],
   "source": [
    "1. What is the difference between supervised and unsupervised learning? Give some examples to\n",
    "illustrate your point."
   ]
  },
  {
   "cell_type": "code",
   "execution_count": null,
   "id": "5d0b8a60",
   "metadata": {},
   "outputs": [],
   "source": [
    "Supervised:In supervised machine learning we know the depent/Output feature and we have lablled dataset which we gonna predict ,\n",
    "  and also it takes feedback based on train test  for example in Titanic Data set we have we need predicd  the survival of a person\n",
    "    \n",
    "    Example:Linear Regression,logistic,SVM,SVC,kmeans,Random forest"
   ]
  },
  {
   "cell_type": "code",
   "execution_count": null,
   "id": "aaa1d1e4",
   "metadata": {},
   "outputs": [],
   "source": [
    "Unsupervised:\n",
    "    in unsupervised machine learning techinque there will not be any \n",
    "    output features where we form cluster or groups based on the given dataset and there no feedback taken based on train test split\n",
    "    \n",
    "    "
   ]
  },
  {
   "cell_type": "code",
   "execution_count": null,
   "id": "3a566d9f",
   "metadata": {},
   "outputs": [],
   "source": [
    "2. Mention a few unsupervised learning applications."
   ]
  },
  {
   "cell_type": "code",
   "execution_count": null,
   "id": "a8917782",
   "metadata": {},
   "outputs": [],
   "source": [
    "1.Products Segmentation.\n",
    "2.Customer Segmentation.\n",
    "3.Similarity Detection.\n",
    "4.Recommendation Systems.\n",
    "5.Labelling unlabelled datasets."
   ]
  },
  {
   "cell_type": "code",
   "execution_count": null,
   "id": "716bd23c",
   "metadata": {},
   "outputs": [],
   "source": [
    "3. What are the three main types of clustering methods? "
   ]
  },
  {
   "cell_type": "code",
   "execution_count": null,
   "id": "37e27daa",
   "metadata": {},
   "outputs": [],
   "source": [
    "Answer:Hierchical clustering,DBscan,Kmeans clustering"
   ]
  },
  {
   "cell_type": "code",
   "execution_count": null,
   "id": "56a92983",
   "metadata": {},
   "outputs": [],
   "source": [
    "4. Explain how the k-means algorithm determines the consistency of clustering."
   ]
  },
  {
   "cell_type": "code",
   "execution_count": null,
   "id": "b37123b5",
   "metadata": {},
   "outputs": [],
   "source": [
    "In kmeans the if a data point near to that particular centroid it will consider that data belongs to that particular point \n",
    "and it constince of kvalue will be determined based on the k and wcs curve"
   ]
  },
  {
   "cell_type": "code",
   "execution_count": null,
   "id": "7f4329ed",
   "metadata": {},
   "outputs": [],
   "source": [
    "5. With a simple illustration, explain the key difference between the k-means and k-medoids\n",
    "algorithms."
   ]
  },
  {
   "cell_type": "code",
   "execution_count": null,
   "id": "9b2b965a",
   "metadata": {},
   "outputs": [],
   "source": [
    " In contrast to the k -means algorithm, k -medoids chooses datapoints as centers"
   ]
  },
  {
   "cell_type": "code",
   "execution_count": null,
   "id": "83aa5ccb",
   "metadata": {},
   "outputs": [],
   "source": [
    "6. What is a dendrogram, and how does it work? Explain how to do it."
   ]
  },
  {
   "cell_type": "code",
   "execution_count": null,
   "id": "3288d7bd",
   "metadata": {},
   "outputs": [],
   "source": [
    "dendogram is tree like structures \n",
    "which is used plot the relation ship between various features in the data set it used in hireachal clustering technique"
   ]
  },
  {
   "cell_type": "code",
   "execution_count": null,
   "id": "107362f7",
   "metadata": {},
   "outputs": [],
   "source": [
    "7. What exactly is SSE? What role does it play in the k-means algorithm?"
   ]
  },
  {
   "cell_type": "code",
   "execution_count": null,
   "id": "3005833a",
   "metadata": {},
   "outputs": [],
   "source": [
    "The purpose of this figure is to show that the initialization of the centroids is an important step."
   ]
  },
  {
   "cell_type": "code",
   "execution_count": null,
   "id": "6b9bed3e",
   "metadata": {},
   "outputs": [],
   "source": [
    "8. With a step-by-step algorithm, explain the k-means procedure."
   ]
  },
  {
   "cell_type": "code",
   "execution_count": null,
   "id": "e2cfba11",
   "metadata": {},
   "outputs": [],
   "source": [
    "Step 1: Choose the number of clusters k.\n",
    "Step 2: Select k random points from the data as centroids. k++ and SSE can be used\n",
    "Step 3: Assign all the points to the closest cluster centroid.\n",
    "Step 4: Recompute the centroids of newly formed clusters."
   ]
  },
  {
   "cell_type": "code",
   "execution_count": null,
   "id": "b912cb7f",
   "metadata": {},
   "outputs": [],
   "source": [
    "9. In the sense of hierarchical clustering, define the terms single link and complete link."
   ]
  },
  {
   "cell_type": "code",
   "execution_count": null,
   "id": "7e12cf09",
   "metadata": {},
   "outputs": [],
   "source": [
    "Single Linkage is a method that focused on minimum distances or nearest neighbor between \n",
    "clusters meanwhile Complete Linkage concentrates on maximum distance or furthest neighbor between clusters."
   ]
  },
  {
   "cell_type": "code",
   "execution_count": null,
   "id": "831456ee",
   "metadata": {},
   "outputs": [],
   "source": [
    "10. How does the apriori concept aid in the reduction of measurement overhead in a business\n",
    "basket analysis? Give an example to demonstrate your point."
   ]
  },
  {
   "cell_type": "code",
   "execution_count": null,
   "id": "fad3ae7f",
   "metadata": {},
   "outputs": [],
   "source": [
    "Systematically identify itemsets that occur frequently in the data set with a support greater than a pre-specified threshold."
   ]
  }
 ],
 "metadata": {
  "kernelspec": {
   "display_name": "Python 3 (ipykernel)",
   "language": "python",
   "name": "python3"
  },
  "language_info": {
   "codemirror_mode": {
    "name": "ipython",
    "version": 3
   },
   "file_extension": ".py",
   "mimetype": "text/x-python",
   "name": "python",
   "nbconvert_exporter": "python",
   "pygments_lexer": "ipython3",
   "version": "3.9.7"
  }
 },
 "nbformat": 4,
 "nbformat_minor": 5
}
