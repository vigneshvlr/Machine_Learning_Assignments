{
 "cells": [
  {
   "cell_type": "code",
   "execution_count": null,
   "id": "8216e09d",
   "metadata": {},
   "outputs": [],
   "source": [
    "1. What are the key tasks that machine learning entails? What does data pre-processing imply?"
   ]
  },
  {
   "cell_type": "code",
   "execution_count": null,
   "id": "36d34709",
   "metadata": {},
   "outputs": [],
   "source": [
    "Answer: data preprocessiong are nothing but EDA,Feature Eng,Feature scaling"
   ]
  },
  {
   "cell_type": "code",
   "execution_count": null,
   "id": "a8051305",
   "metadata": {},
   "outputs": [],
   "source": [
    "2. Describe quantitative and qualitative data in depth. Make a distinction between the two."
   ]
  },
  {
   "cell_type": "code",
   "execution_count": null,
   "id": "85c03039",
   "metadata": {},
   "outputs": [],
   "source": [
    "Answer:\n",
    "quantitative:\n",
    "    In quantitative the data will be in the form numbers and the data type will be int/float,where as its further dividen into two types\n",
    "    1.Discrete quantitaive-integers with distinct number(with threshold 25)\n",
    "    2.Continous-real numbers or float\n",
    "Qualitaive:\n",
    "    In qualitative the data will be in form of lable or text or string where the data type will be in object and it can be ordinal or nomial type\n",
    "    "
   ]
  },
  {
   "cell_type": "code",
   "execution_count": null,
   "id": "1f459c15",
   "metadata": {},
   "outputs": [],
   "source": [
    "3. Create a basic data collection that includes some sample records. Have at least one attribute from\n",
    "each of the machine learning data types."
   ]
  },
  {
   "cell_type": "code",
   "execution_count": 25,
   "id": "73c171dd",
   "metadata": {},
   "outputs": [],
   "source": [
    "dict1={'data1':{1,2,3,4},'data2'{'sad','dasad'}}"
   ]
  },
  {
   "cell_type": "code",
   "execution_count": 26,
   "id": "37deec34",
   "metadata": {},
   "outputs": [],
   "source": [
    "import pandas as pd"
   ]
  },
  {
   "cell_type": "code",
   "execution_count": 29,
   "id": "53ed7ab6",
   "metadata": {},
   "outputs": [],
   "source": [
    "df=pd.DataFrame(dict1['data1'])"
   ]
  },
  {
   "cell_type": "code",
   "execution_count": null,
   "id": "011429c2",
   "metadata": {},
   "outputs": [],
   "source": [
    "4. What are the various causes of machine learning data issues? What are the ramifications?"
   ]
  },
  {
   "cell_type": "code",
   "execution_count": null,
   "id": "766598bc",
   "metadata": {},
   "outputs": [],
   "source": [
    "Answer:\n",
    "    if the data is imbalanced data\n",
    "    if there is data duplicates\n",
    "    if there is outliers\n",
    "    if there is nan values"
   ]
  },
  {
   "cell_type": "code",
   "execution_count": null,
   "id": "64f5a82f",
   "metadata": {},
   "outputs": [],
   "source": [
    "5. Demonstrate various approaches to categorical data exploration with appropriate examples."
   ]
  },
  {
   "cell_type": "code",
   "execution_count": null,
   "id": "58446141",
   "metadata": {},
   "outputs": [],
   "source": [
    "Answer:\n",
    "Box Plot.\n",
    "Violin Plot.\n",
    "Boxen Plot.\n",
    "Strip Plot.\n",
    "Swarm Plot.\n",
    "Point Plot.\n",
    "Bar Plot.\n",
    "Count Plot."
   ]
  },
  {
   "cell_type": "code",
   "execution_count": null,
   "id": "fab1bbca",
   "metadata": {},
   "outputs": [],
   "source": [
    "6. How would the learning activity be affected if certain variables have missing values? Having said\n",
    "that, what can be done about it?"
   ]
  },
  {
   "cell_type": "code",
   "execution_count": null,
   "id": "072070a5",
   "metadata": {},
   "outputs": [],
   "source": [
    "Missing data present various problems. First, the absence of data reduces statistical power, \n",
    "which refers to the probability that the test will reject the null hypothesis when it is false. Second, the lost data can cause bias in the estimation of parameters. T\n",
    "hird, it can reduce the representativeness of the samples"
   ]
  },
  {
   "cell_type": "code",
   "execution_count": null,
   "id": "db90caad",
   "metadata": {},
   "outputs": [],
   "source": [
    "7. Describe the various methods for dealing with missing data values in depth."
   ]
  },
  {
   "cell_type": "code",
   "execution_count": null,
   "id": "b41e1246",
   "metadata": {},
   "outputs": [],
   "source": [
    "1.we can use mean\n",
    "2.we can use median\n",
    "3.we can use mode\n",
    "4.we can use imputer technique\n",
    "5.we can drop the data columns if required\n"
   ]
  },
  {
   "cell_type": "code",
   "execution_count": null,
   "id": "ba7bc8bf",
   "metadata": {},
   "outputs": [],
   "source": [
    "8. What are the various data pre-processing techniques? Explain dimensionality reduction and\n",
    "function selection in a few words."
   ]
  },
  {
   "cell_type": "code",
   "execution_count": null,
   "id": "cab4591e",
   "metadata": {},
   "outputs": [],
   "source": [
    "Answer:\n",
    "Feature selection is simply selecting and excluding given features without changing them. \n",
    "Dimensionality reduction transforms features into a lower dimension."
   ]
  },
  {
   "cell_type": "code",
   "execution_count": null,
   "id": "612431db",
   "metadata": {},
   "outputs": [],
   "source": [
    "9.\n",
    "i. What is the IQR? What criteria are used to assess it?"
   ]
  },
  {
   "cell_type": "code",
   "execution_count": null,
   "id": "ba2dfd25",
   "metadata": {},
   "outputs": [],
   "source": [
    "IQR:it is nothing  but inter quantile range whichi is nothing but the 75 quantile minus the 25 qunatile"
   ]
  },
  {
   "cell_type": "code",
   "execution_count": null,
   "id": "81433d92",
   "metadata": {},
   "outputs": [],
   "source": [
    "ii. Describe the various components of a box plot in detail? When will the lower whisker\n",
    "surpass the upper whisker in length? How can box plots be used to identify outliers?"
   ]
  },
  {
   "cell_type": "code",
   "execution_count": null,
   "id": "a7098d4f",
   "metadata": {},
   "outputs": [],
   "source": [
    "Answer:\n",
    "    it contains various IQR ,Q1,Q2,Q3,Q4 and outliers dots"
   ]
  },
  {
   "cell_type": "code",
   "execution_count": null,
   "id": "edd66517",
   "metadata": {},
   "outputs": [],
   "source": [
    "10. Make brief notes on any two of the following:\n",
    "\n",
    "1. Data collected at regular intervals\n",
    "Answer:\n",
    "    nterval data is measured along a numerical scale that has equal distances between adjacent values. These distances are called “intervals.” \n",
    "    There is no true zero on an interval scale, which is what distinguishes it from a ratio scale"
   ]
  }
 ],
 "metadata": {
  "kernelspec": {
   "display_name": "Python 3 (ipykernel)",
   "language": "python",
   "name": "python3"
  },
  "language_info": {
   "codemirror_mode": {
    "name": "ipython",
    "version": 3
   },
   "file_extension": ".py",
   "mimetype": "text/x-python",
   "name": "python",
   "nbconvert_exporter": "python",
   "pygments_lexer": "ipython3",
   "version": "3.9.7"
  }
 },
 "nbformat": 4,
 "nbformat_minor": 5
}
